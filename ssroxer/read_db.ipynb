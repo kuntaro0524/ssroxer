{
 "cells": [
  {
   "cell_type": "code",
   "execution_count": 2,
   "id": "d6bfbe06",
   "metadata": {},
   "outputs": [
    {
     "data": {
      "text/plain": [
       "Index(['root_dir', 'o_index', 'p_index', 'mode', 'puckid', 'pinid',\n",
       "       'sample_name', 'wavelength', 'raster_vbeam', 'raster_hbeam',\n",
       "       'att_raster', 'hebi_att', 'exp_raster', 'dist_raster', 'loopsize',\n",
       "       'score_min', 'score_max', 'maxhits', 'total_osc', 'osc_width',\n",
       "       'ds_vbeam', 'ds_hbeam', 'exp_ds', 'dist_ds', 'dose_ds', 'offset_angle',\n",
       "       'reduced_fact', 'ntimes', 'meas_name', 'cry_min_size_um',\n",
       "       'cry_max_size_um', 'hel_full_osc', 'hel_part_osc', 'raster_roi',\n",
       "       'ln2_flag', 'cover_scan_flag', 'zoomcap_flag', 'warm_time', 'isSkip',\n",
       "       'isMount', 'isLoopCenter', 'isRaster', 'isDS', 'isDone', 'scan_height',\n",
       "       'scan_width', 'n_mount', 'nds_multi', 'nds_helical', 'nds_helpart',\n",
       "       't_meas_start', 't_mount_end', 't_cent_start', 't_cent_end',\n",
       "       't_raster_start', 't_raster_end', 't_ds_start', 't_ds_end',\n",
       "       't_dismount_start', 't_dismount_end', 'data_index', 'n_mount_fails',\n",
       "       'log_mount', 'hel_cry_size', 'flux', 'phs_per_deg'],\n",
       "      dtype='object')"
      ]
     },
     "execution_count": 2,
     "metadata": {},
     "output_type": "execute_result"
    }
   ],
   "source": [
    "import pandas as pd\n",
    "import sqlite3\n",
    "\n",
    "file_sqlite3=\"./zoo_200715120945.db\"\n",
    "conn = sqlite3.connect(file_sqlite3)\n",
    "cursor=conn.cursor()\n",
    "\n",
    "# cursor.execute(\"select * from sqlite_master where type='table'\")\n",
    "# for x in cursor.fetchall():\n",
    "#     print(x)\n",
    "\n",
    "df=pd.read_sql_query('SELECT * FROM ESA', conn)\n",
    "df.columns"
   ]
  },
  {
   "cell_type": "code",
   "execution_count": 6,
   "id": "bb07684a",
   "metadata": {},
   "outputs": [
    {
     "data": {
      "text/html": [
       "<div>\n",
       "<style scoped>\n",
       "    .dataframe tbody tr th:only-of-type {\n",
       "        vertical-align: middle;\n",
       "    }\n",
       "\n",
       "    .dataframe tbody tr th {\n",
       "        vertical-align: top;\n",
       "    }\n",
       "\n",
       "    .dataframe thead th {\n",
       "        text-align: right;\n",
       "    }\n",
       "</style>\n",
       "<table border=\"1\" class=\"dataframe\">\n",
       "  <thead>\n",
       "    <tr style=\"text-align: right;\">\n",
       "      <th></th>\n",
       "      <th>root_dir</th>\n",
       "      <th>o_index</th>\n",
       "      <th>p_index</th>\n",
       "      <th>mode</th>\n",
       "      <th>puckid</th>\n",
       "      <th>pinid</th>\n",
       "      <th>sample_name</th>\n",
       "      <th>wavelength</th>\n",
       "      <th>raster_vbeam</th>\n",
       "      <th>raster_hbeam</th>\n",
       "      <th>...</th>\n",
       "      <th>t_ds_start</th>\n",
       "      <th>t_ds_end</th>\n",
       "      <th>t_dismount_start</th>\n",
       "      <th>t_dismount_end</th>\n",
       "      <th>data_index</th>\n",
       "      <th>n_mount_fails</th>\n",
       "      <th>log_mount</th>\n",
       "      <th>hel_cry_size</th>\n",
       "      <th>flux</th>\n",
       "      <th>phs_per_deg</th>\n",
       "    </tr>\n",
       "  </thead>\n",
       "  <tbody>\n",
       "    <tr>\n",
       "      <th>31</th>\n",
       "      <td>/isilon/users/target/target/AutoUsers/200715/abe</td>\n",
       "      <td>31</td>\n",
       "      <td>31</td>\n",
       "      <td>ssrox</td>\n",
       "      <td>HSK0002</td>\n",
       "      <td>16</td>\n",
       "      <td>WTPhC9</td>\n",
       "      <td>1.0</td>\n",
       "      <td>1.1</td>\n",
       "      <td>1.1</td>\n",
       "      <td>...</td>\n",
       "      <td>0</td>\n",
       "      <td>0</td>\n",
       "      <td>0</td>\n",
       "      <td>0</td>\n",
       "      <td>0</td>\n",
       "      <td>0</td>\n",
       "      <td>0</td>\n",
       "      <td>0.0</td>\n",
       "      <td>1.710757e+12</td>\n",
       "      <td>0.0</td>\n",
       "    </tr>\n",
       "  </tbody>\n",
       "</table>\n",
       "<p>1 rows × 66 columns</p>\n",
       "</div>"
      ],
      "text/plain": [
       "                                            root_dir  o_index  p_index   mode  \\\n",
       "31  /isilon/users/target/target/AutoUsers/200715/abe       31       31  ssrox   \n",
       "\n",
       "     puckid  pinid sample_name  wavelength  raster_vbeam  raster_hbeam  ...  \\\n",
       "31  HSK0002     16      WTPhC9         1.0           1.1           1.1  ...   \n",
       "\n",
       "    t_ds_start  t_ds_end  t_dismount_start  t_dismount_end  data_index  \\\n",
       "31           0         0                 0               0           0   \n",
       "\n",
       "    n_mount_fails  log_mount  hel_cry_size          flux  phs_per_deg  \n",
       "31              0          0           0.0  1.710757e+12          0.0  \n",
       "\n",
       "[1 rows x 66 columns]"
      ]
     },
     "execution_count": 6,
     "metadata": {},
     "output_type": "execute_result"
    }
   ],
   "source": [
    "sel = df['n_mount']!=0\n",
    "df[sel]"
   ]
  },
  {
   "cell_type": "code",
   "execution_count": null,
   "id": "d8759988",
   "metadata": {},
   "outputs": [],
   "source": []
  }
 ],
 "metadata": {
  "kernelspec": {
   "display_name": "Python 3",
   "language": "python",
   "name": "python3"
  },
  "language_info": {
   "codemirror_mode": {
    "name": "ipython",
    "version": 3
   },
   "file_extension": ".py",
   "mimetype": "text/x-python",
   "name": "python",
   "nbconvert_exporter": "python",
   "pygments_lexer": "ipython3",
   "version": "3.6.10"
  }
 },
 "nbformat": 4,
 "nbformat_minor": 5
}
