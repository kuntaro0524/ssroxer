{
 "cells": [
  {
   "cell_type": "code",
   "execution_count": 1,
   "id": "46c18f07",
   "metadata": {},
   "outputs": [],
   "source": [
    "import pandas as pd\n"
   ]
  },
  {
   "cell_type": "code",
   "execution_count": 2,
   "id": "1e7380f8",
   "metadata": {},
   "outputs": [
    {
     "data": {
      "text/plain": [
       "Index(['root_dir', 'p_index', 'mode', 'puckid', 'pinid', 'sample_name',\n",
       "       'wavelength', 'raster_vbeam', 'raster_hbeam', 'att_raster', 'hebi_att',\n",
       "       'exp_raster', 'dist_raster', 'loopsize', 'score_min', 'score_max',\n",
       "       'maxhits', 'total_osc', 'osc_width', 'ds_vbeam', 'ds_hbeam', 'exp_ds',\n",
       "       'dist_ds', 'dose_ds', 'offset_angle', 'reduced_fact', 'ntimes',\n",
       "       'meas_name', 'cry_min_size_um', 'cry_max_size_um', 'hel_full_osc',\n",
       "       'hel_part_osc', 'raster_roi', 'ln2_flag', 'cover_scan_flag',\n",
       "       'zoomcap_flag', 'warm_time'],\n",
       "      dtype='object')"
      ]
     },
     "execution_count": 2,
     "metadata": {},
     "output_type": "execute_result"
    }
   ],
   "source": [
    "df = pd.read_csv(\"./ZOOPREP_200709_SatoshiAbe_BL32XU_zoo_ssrox.csv\")\n",
    "df.columns"
   ]
  },
  {
   "cell_type": "markdown",
   "id": "97162c41",
   "metadata": {},
   "source": [
    "# group by 'sample_name'"
   ]
  },
  {
   "cell_type": "code",
   "execution_count": 3,
   "id": "7e4f9c29",
   "metadata": {},
   "outputs": [],
   "source": [
    "ofile = open(\"sample.txt\",\"w\")\n",
    "\n",
    "def getPinIDs(pinstr):\n",
    "    rtn_array=[]\n",
    "    # '-'\n",
    "    if pinstr.rfind(\"-\") != -1:\n",
    "        blocks = pinstr.split(\"-\")\n",
    "        for b in blocks:\n",
    "            rtn_array.append(int(b))\n",
    "            \n",
    "    return rtn_array\n",
    "\n",
    "for sample_name, proc_group in df.groupby('sample_name'):\n",
    "#     print(\"##################################################\")\n",
    "    puckids=proc_group['puckid']\n",
    "    pinids=proc_group['pinid']\n",
    "\n",
    "    for p,q in zip(puckids, pinids):\n",
    "        pins = getPinIDs(q)\n",
    "        for pin in pins:\n",
    "            ofile.write(\"%s-%02d PDBID %s\\n\"%(p,pin, sample_name)) "
   ]
  },
  {
   "cell_type": "code",
   "execution_count": null,
   "id": "9f8d6e0d",
   "metadata": {},
   "outputs": [],
   "source": []
  },
  {
   "cell_type": "code",
   "execution_count": null,
   "id": "5ccc18ab",
   "metadata": {},
   "outputs": [],
   "source": []
  }
 ],
 "metadata": {
  "kernelspec": {
   "display_name": "Python 3",
   "language": "python",
   "name": "python3"
  },
  "language_info": {
   "codemirror_mode": {
    "name": "ipython",
    "version": 3
   },
   "file_extension": ".py",
   "mimetype": "text/x-python",
   "name": "python",
   "nbconvert_exporter": "python",
   "pygments_lexer": "ipython3",
   "version": "3.6.10"
  }
 },
 "nbformat": 4,
 "nbformat_minor": 5
}
