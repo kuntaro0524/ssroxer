{
 "cells": [
  {
   "cell_type": "code",
   "execution_count": 17,
   "id": "223ab0b3",
   "metadata": {},
   "outputs": [],
   "source": [
    "import pandas as pd\n",
    "\n",
    "df = pd.read_csv(\"./pdbfiles.lst\", delim_whitespace=True, names=['sample_name', 'pdbfile'])\n"
   ]
  },
  {
   "cell_type": "code",
   "execution_count": 18,
   "id": "7d9526b8",
   "metadata": {},
   "outputs": [
    {
     "data": {
      "text/html": [
       "<div>\n",
       "<style scoped>\n",
       "    .dataframe tbody tr th:only-of-type {\n",
       "        vertical-align: middle;\n",
       "    }\n",
       "\n",
       "    .dataframe tbody tr th {\n",
       "        vertical-align: top;\n",
       "    }\n",
       "\n",
       "    .dataframe thead th {\n",
       "        text-align: right;\n",
       "    }\n",
       "</style>\n",
       "<table border=\"1\" class=\"dataframe\">\n",
       "  <thead>\n",
       "    <tr style=\"text-align: right;\">\n",
       "      <th></th>\n",
       "      <th>sample_name</th>\n",
       "      <th>pdbfile</th>\n",
       "    </tr>\n",
       "  </thead>\n",
       "  <tbody>\n",
       "    <tr>\n",
       "      <th>0</th>\n",
       "      <td>ph1</td>\n",
       "      <td>1oh1.pdb</td>\n",
       "    </tr>\n",
       "    <tr>\n",
       "      <th>1</th>\n",
       "      <td>ph2</td>\n",
       "      <td>1oh2.pdb</td>\n",
       "    </tr>\n",
       "    <tr>\n",
       "      <th>2</th>\n",
       "      <td>ph3</td>\n",
       "      <td>1oh3.pdb</td>\n",
       "    </tr>\n",
       "    <tr>\n",
       "      <th>3</th>\n",
       "      <td>ph4</td>\n",
       "      <td>1oh4.pdb</td>\n",
       "    </tr>\n",
       "    <tr>\n",
       "      <th>4</th>\n",
       "      <td>ph5</td>\n",
       "      <td>1oh5.pdb</td>\n",
       "    </tr>\n",
       "    <tr>\n",
       "      <th>5</th>\n",
       "      <td>ph6</td>\n",
       "      <td>1oh6.pdb</td>\n",
       "    </tr>\n",
       "    <tr>\n",
       "      <th>6</th>\n",
       "      <td>ph7</td>\n",
       "      <td>1oh7.pdb</td>\n",
       "    </tr>\n",
       "    <tr>\n",
       "      <th>7</th>\n",
       "      <td>ph8</td>\n",
       "      <td>1oh8.pdb</td>\n",
       "    </tr>\n",
       "  </tbody>\n",
       "</table>\n",
       "</div>"
      ],
      "text/plain": [
       "  sample_name   pdbfile\n",
       "0         ph1  1oh1.pdb\n",
       "1         ph2  1oh2.pdb\n",
       "2         ph3  1oh3.pdb\n",
       "3         ph4  1oh4.pdb\n",
       "4         ph5  1oh5.pdb\n",
       "5         ph6  1oh6.pdb\n",
       "6         ph7  1oh7.pdb\n",
       "7         ph8  1oh8.pdb"
      ]
     },
     "execution_count": 18,
     "metadata": {},
     "output_type": "execute_result"
    }
   ],
   "source": [
    "df"
   ]
  },
  {
   "cell_type": "code",
   "execution_count": 22,
   "id": "6dbb227d",
   "metadata": {},
   "outputs": [
    {
     "data": {
      "text/plain": [
       "{0: {'sample_name': 'ph1', 'pdbfile': '1oh1.pdb'},\n",
       " 1: {'sample_name': 'ph2', 'pdbfile': '1oh2.pdb'},\n",
       " 2: {'sample_name': 'ph3', 'pdbfile': '1oh3.pdb'},\n",
       " 3: {'sample_name': 'ph4', 'pdbfile': '1oh4.pdb'},\n",
       " 4: {'sample_name': 'ph5', 'pdbfile': '1oh5.pdb'},\n",
       " 5: {'sample_name': 'ph6', 'pdbfile': '1oh6.pdb'},\n",
       " 6: {'sample_name': 'ph7', 'pdbfile': '1oh7.pdb'},\n",
       " 7: {'sample_name': 'ph8', 'pdbfile': '1oh8.pdb'}}"
      ]
     },
     "execution_count": 22,
     "metadata": {},
     "output_type": "execute_result"
    }
   ],
   "source": [
    "indict = df.to_dict(orient='index')\n",
    "indict"
   ]
  },
  {
   "cell_type": "code",
   "execution_count": 33,
   "id": "0e84daa5",
   "metadata": {},
   "outputs": [
    {
     "data": {
      "text/plain": [
       "{'sample_name': {0: 'ph1',\n",
       "  1: 'ph2',\n",
       "  2: 'ph3',\n",
       "  3: 'ph4',\n",
       "  4: 'ph5',\n",
       "  5: 'ph6',\n",
       "  6: 'ph7',\n",
       "  7: 'ph8'},\n",
       " 'pdbfile': {0: '1oh1.pdb',\n",
       "  1: '1oh2.pdb',\n",
       "  2: '1oh3.pdb',\n",
       "  3: '1oh4.pdb',\n",
       "  4: '1oh5.pdb',\n",
       "  5: '1oh6.pdb',\n",
       "  6: '1oh7.pdb',\n",
       "  7: '1oh8.pdb'}}"
      ]
     },
     "execution_count": 33,
     "metadata": {},
     "output_type": "execute_result"
    }
   ],
   "source": [
    "indict = df.to_dict(orient='dict')\n",
    "indict"
   ]
  },
  {
   "cell_type": "code",
   "execution_count": 34,
   "id": "ab8ab578",
   "metadata": {},
   "outputs": [
    {
     "data": {
      "text/plain": [
       "{'sample_name': ['ph1', 'ph2', 'ph3', 'ph4', 'ph5', 'ph6', 'ph7', 'ph8'],\n",
       " 'pdbfile': ['1oh1.pdb',\n",
       "  '1oh2.pdb',\n",
       "  '1oh3.pdb',\n",
       "  '1oh4.pdb',\n",
       "  '1oh5.pdb',\n",
       "  '1oh6.pdb',\n",
       "  '1oh7.pdb',\n",
       "  '1oh8.pdb']}"
      ]
     },
     "execution_count": 34,
     "metadata": {},
     "output_type": "execute_result"
    }
   ],
   "source": [
    "indict = df.to_dict(orient='list')\n",
    "indict"
   ]
  },
  {
   "cell_type": "code",
   "execution_count": 35,
   "id": "dc908868",
   "metadata": {},
   "outputs": [
    {
     "data": {
      "text/plain": [
       "{'sample_name': 0    ph1\n",
       " 1    ph2\n",
       " 2    ph3\n",
       " 3    ph4\n",
       " 4    ph5\n",
       " 5    ph6\n",
       " 6    ph7\n",
       " 7    ph8\n",
       " Name: sample_name, dtype: object,\n",
       " 'pdbfile': 0    1oh1.pdb\n",
       " 1    1oh2.pdb\n",
       " 2    1oh3.pdb\n",
       " 3    1oh4.pdb\n",
       " 4    1oh5.pdb\n",
       " 5    1oh6.pdb\n",
       " 6    1oh7.pdb\n",
       " 7    1oh8.pdb\n",
       " Name: pdbfile, dtype: object}"
      ]
     },
     "execution_count": 35,
     "metadata": {},
     "output_type": "execute_result"
    }
   ],
   "source": [
    "indict = df.to_dict(orient='series')\n",
    "indict"
   ]
  },
  {
   "cell_type": "code",
   "execution_count": 37,
   "id": "28c87229",
   "metadata": {},
   "outputs": [
    {
     "data": {
      "text/plain": [
       "[['ph1', '1oh1.pdb'],\n",
       " ['ph2', '1oh2.pdb'],\n",
       " ['ph3', '1oh3.pdb'],\n",
       " ['ph4', '1oh4.pdb'],\n",
       " ['ph5', '1oh5.pdb'],\n",
       " ['ph6', '1oh6.pdb'],\n",
       " ['ph7', '1oh7.pdb'],\n",
       " ['ph8', '1oh8.pdb']]"
      ]
     },
     "execution_count": 37,
     "metadata": {},
     "output_type": "execute_result"
    }
   ],
   "source": [
    "indict = df.to_dict(orient='split')\n",
    "dicdic=indict['data']\n",
    "dicdic"
   ]
  },
  {
   "cell_type": "code",
   "execution_count": 38,
   "id": "f478f4b2",
   "metadata": {},
   "outputs": [
    {
     "data": {
      "text/plain": [
       "{0: {'sample_name': 'ph1', 'pdbfile': '1oh1.pdb'},\n",
       " 1: {'sample_name': 'ph2', 'pdbfile': '1oh2.pdb'},\n",
       " 2: {'sample_name': 'ph3', 'pdbfile': '1oh3.pdb'},\n",
       " 3: {'sample_name': 'ph4', 'pdbfile': '1oh4.pdb'},\n",
       " 4: {'sample_name': 'ph5', 'pdbfile': '1oh5.pdb'},\n",
       " 5: {'sample_name': 'ph6', 'pdbfile': '1oh6.pdb'},\n",
       " 6: {'sample_name': 'ph7', 'pdbfile': '1oh7.pdb'},\n",
       " 7: {'sample_name': 'ph8', 'pdbfile': '1oh8.pdb'}}"
      ]
     },
     "execution_count": 38,
     "metadata": {},
     "output_type": "execute_result"
    }
   ],
   "source": [
    "indict = df.to_dict(orient='index')\n",
    "indict"
   ]
  },
  {
   "cell_type": "code",
   "execution_count": 39,
   "id": "63daa938",
   "metadata": {},
   "outputs": [
    {
     "ename": "ValueError",
     "evalue": "orient 'ordereddict' not understood",
     "output_type": "error",
     "traceback": [
      "\u001b[0;31m---------------------------------------------------------------------------\u001b[0m",
      "\u001b[0;31mValueError\u001b[0m                                Traceback (most recent call last)",
      "\u001b[0;32m<ipython-input-39-67c3fc99ac68>\u001b[0m in \u001b[0;36m<module>\u001b[0;34m\u001b[0m\n\u001b[0;32m----> 1\u001b[0;31m \u001b[0mindict\u001b[0m \u001b[0;34m=\u001b[0m \u001b[0mdf\u001b[0m\u001b[0;34m.\u001b[0m\u001b[0mto_dict\u001b[0m\u001b[0;34m(\u001b[0m\u001b[0morient\u001b[0m\u001b[0;34m=\u001b[0m\u001b[0;34m'OrderedDict'\u001b[0m\u001b[0;34m)\u001b[0m\u001b[0;34m\u001b[0m\u001b[0;34m\u001b[0m\u001b[0m\n\u001b[0m\u001b[1;32m      2\u001b[0m \u001b[0mindict\u001b[0m\u001b[0;34m\u001b[0m\u001b[0;34m\u001b[0m\u001b[0m\n",
      "\u001b[0;32m/oys/anaconda3/lib/python3.8/site-packages/pandas/core/frame.py\u001b[0m in \u001b[0;36mto_dict\u001b[0;34m(self, orient, into)\u001b[0m\n\u001b[1;32m   1612\u001b[0m \u001b[0;34m\u001b[0m\u001b[0m\n\u001b[1;32m   1613\u001b[0m         \u001b[0;32melse\u001b[0m\u001b[0;34m:\u001b[0m\u001b[0;34m\u001b[0m\u001b[0;34m\u001b[0m\u001b[0m\n\u001b[0;32m-> 1614\u001b[0;31m             \u001b[0;32mraise\u001b[0m \u001b[0mValueError\u001b[0m\u001b[0;34m(\u001b[0m\u001b[0;34mf\"orient '{orient}' not understood\"\u001b[0m\u001b[0;34m)\u001b[0m\u001b[0;34m\u001b[0m\u001b[0;34m\u001b[0m\u001b[0m\n\u001b[0m\u001b[1;32m   1615\u001b[0m \u001b[0;34m\u001b[0m\u001b[0m\n\u001b[1;32m   1616\u001b[0m     def to_gbq(\n",
      "\u001b[0;31mValueError\u001b[0m: orient 'ordereddict' not understood"
     ]
    }
   ],
   "source": [
    "indict = df.to_dict(orient='OrderedDict')\n",
    "indict"
   ]
  },
  {
   "cell_type": "code",
   "execution_count": 47,
   "id": "42f47ea1",
   "metadata": {},
   "outputs": [
    {
     "data": {
      "text/plain": [
       "'1oh1.pdb'"
      ]
     },
     "execution_count": 47,
     "metadata": {},
     "output_type": "execute_result"
    }
   ],
   "source": [
    "# print(df.index)\n",
    "# print(df['sample_name'])\n",
    "# print(df['pdbfile'])\n",
    "\n",
    "d_col = dict(zip(df['sample_name'], df['pdbfile']))\n",
    "d_col.get('ph1')"
   ]
  },
  {
   "cell_type": "code",
   "execution_count": null,
   "id": "8a3ab47e",
   "metadata": {},
   "outputs": [],
   "source": []
  }
 ],
 "metadata": {
  "kernelspec": {
   "display_name": "Python 3",
   "language": "python",
   "name": "python3"
  },
  "language_info": {
   "codemirror_mode": {
    "name": "ipython",
    "version": 3
   },
   "file_extension": ".py",
   "mimetype": "text/x-python",
   "name": "python",
   "nbconvert_exporter": "python",
   "pygments_lexer": "ipython3",
   "version": "3.8.8"
  }
 },
 "nbformat": 4,
 "nbformat_minor": 5
}
